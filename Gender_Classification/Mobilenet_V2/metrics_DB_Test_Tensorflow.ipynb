{
 "cells": [
  {
   "cell_type": "code",
   "execution_count": 5,
   "metadata": {},
   "outputs": [],
   "source": [
    "import numpy as np\n",
    "from tensorflow.keras.models import load_model\n",
    "from tensorflow.keras.preprocessing import image\n",
    "from tensorflow.keras.applications.mobilenet_v2 import preprocess_input\n",
    "import glob\n",
    "import cv2\n",
    "\n",
    "model = load_model('resultado/mobilenetv2_225_75_conLR_coseno/mobilenet_v2-50epochs_224.h5')\n",
    "#model.summary()\n",
    "with open('dataset_genero/labels.txt') as f:\n",
    "    clases = f.read().splitlines()\n",
    "\n",
    "def predecirImagen(imagen):\n",
    "    img = image.load_img(imagen, target_size=(225, 75))\n",
    "    x = image.img_to_array(img)\n",
    "    x = np.expand_dims(x, axis=0)\n",
    "    x = preprocess_input(x)\n",
    "    preds = model.predict(x)\n",
    "    return preds"
   ]
  },
  {
   "cell_type": "code",
   "execution_count": 21,
   "metadata": {},
   "outputs": [
    {
     "name": "stdout",
     "output_type": "stream",
     "text": [
      "[[0.34463498 0.655365  ]]\n",
      "Result:  m\n"
     ]
    }
   ],
   "source": [
    "#preds=predecirImagen(\"productos_unidos_trai/test/alcoholGel/alcoholGel_0c6565b2-8efc-4f75-aebb-1ef0c3321fdb.jpg\")\n",
    "#preds=predecirImagen(\"productos_unidos_trai/test/leche/leche_2cc96a5a-d5e0-4eba-8405-32616651bdd2.jpg\")\n",
    "imagen=\"prueba2\"\n",
    "preds=predecirImagen(\"dataset_genero/test/f/\"+imagen+\".jpg\")\n",
    "\n",
    "prediction=np.argmax(preds)\n",
    "print(preds)\n",
    "print(\"Result: \",clases[int(prediction)])"
   ]
  },
  {
   "cell_type": "code",
   "execution_count": 2,
   "metadata": {},
   "outputs": [],
   "source": [
    "\n",
    "fileTest=\"dataset_genero/test\"\n",
    "files = glob.glob(fileTest + \"/*\")\n",
    "y_pred=[]\n",
    "y_true=[]\n",
    "for file in range(len(files)):\n",
    "    subFiles = glob.glob(files[file]+\"/*\")\n",
    "    #print(subFiles)\n",
    "    for img in subFiles:\n",
    "        #print(img)\n",
    "        classFile=files[file].split(fileTest+\"/\",1)[1]\n",
    "        y_true.append(clases.index(classFile))\n",
    "\n",
    "        preds=predecirImagen(img)\n",
    "        prediction=np.argmax(preds)\n",
    "        #print(\"Result: \",clases[int(prediction)])\n",
    "        y_pred.append(int(prediction))\n",
    "        \n"
   ]
  },
  {
   "cell_type": "code",
   "execution_count": 4,
   "metadata": {},
   "outputs": [
    {
     "name": "stdout",
     "output_type": "stream",
     "text": [
      "              precision    recall  f1-score   support\n",
      "\n",
      "           f       0.63      0.71      0.67       315\n",
      "           m       0.86      0.81      0.83       677\n",
      "\n",
      "    accuracy                           0.78       992\n",
      "   macro avg       0.74      0.76      0.75       992\n",
      "weighted avg       0.78      0.78      0.78       992\n",
      "\n"
     ]
    }
   ],
   "source": [
    "from sklearn.metrics import classification_report\n",
    "print(classification_report(y_true, y_pred, target_names=clases))"
   ]
  },
  {
   "cell_type": "code",
   "execution_count": null,
   "metadata": {},
   "outputs": [],
   "source": []
  }
 ],
 "metadata": {
  "interpreter": {
   "hash": "40c6efbe1bfe1230750b1c6b6ff43642b05be0357dd448c396fdd7cde68b7842"
  },
  "kernelspec": {
   "display_name": "Python 3.8.10 64-bit ('fa': conda)",
   "name": "python3"
  },
  "language_info": {
   "codemirror_mode": {
    "name": "ipython",
    "version": 3
   },
   "file_extension": ".py",
   "mimetype": "text/x-python",
   "name": "python",
   "nbconvert_exporter": "python",
   "pygments_lexer": "ipython3",
   "version": "3.8.10"
  }
 },
 "nbformat": 4,
 "nbformat_minor": 4
}
