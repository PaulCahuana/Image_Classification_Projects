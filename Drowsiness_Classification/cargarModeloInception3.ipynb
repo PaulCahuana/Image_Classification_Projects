{
 "cells": [
  {
   "cell_type": "code",
   "execution_count": 5,
   "metadata": {},
   "outputs": [],
   "source": [
    "from shutil import rmtree #elminar carpeta temporal\n",
    "from keras.applications.xception import preprocess_input\n",
    "import numpy as np\n",
    "import matplotlib.pyplot as plt\n",
    "import matplotlib.gridspec as gridspec\n",
    "from keras.preprocessing import image\n",
    "from keras.models import load_model\n",
    "import os #librería para crear carpetas\n",
    "from PIL import Image,ImageOps\n",
    "import cv2\n",
    "# Importamos las librerías que necesitaremos.\n",
    "import argparse\n",
    "from keras.datasets import cifar10  # En este módulo está CIFAR-10 en formato numpy\n",
    "from keras.engine.saving import load_model\n",
    "from sklearn.metrics import classification_report\n",
    "from sklearn.preprocessing import LabelBinarizer\n",
    "from keras.applications.inception_v3 import preprocess_input\n",
    "\n",
    "model = load_model('50epochs_Inceptionv3_Solo_SISO.h5')\n",
    "#model.summary()\n",
    "\n",
    "\n",
    "def predecirImagenFinal(imagen):\n",
    "    img = image.load_img(imagen, target_size=(224,224))\n",
    "    x = image.img_to_array(img)\n",
    "    x = np.expand_dims(x, axis=0)\n",
    "    x = preprocess_input(x)\n",
    "    preds = model.predict(x)\n",
    "    #dormido=1\n",
    "    #despierto=1\n",
    "    print(\"resultado:\",preds)\n",
    "    if(preds[0][0]>0.5):\n",
    "        print(\"despierto\")\n",
    "    else:\n",
    "        print(\"dormido\")\n",
    "    return\n",
    "\n",
    "def predecirImagenCruda(pathImage):\n",
    "    pathTemporal=\"temporal\"\n",
    "    os.mkdir(pathTemporal)\n",
    "    cnnFace(pathTemporal,pathImage)\n",
    "    #print(pathTemporal+\"/\"+pathImage)\n",
    "    try:\n",
    "        predecirImagenFinal(pathTemporal+\"/\"+pathImage)\n",
    "    except:\n",
    "        print(\"No se encontró un rostro en la función\")\n",
    "    \n",
    "    rmtree(pathTemporal)\n",
    "    return\n",
    "\n",
    "def cnnFace(direccionN,pathImage):\n",
    "    direccionN=direccionN+\"/\"+pathImage\n",
    "    protoxt=\"deploy.prototxt.txt\"\n",
    "    model=\"res10_300x300_ssd_iter_140000.caffemodel\"\n",
    "    confidence_=0.5\n",
    "    try:\n",
    "        net = cv2.dnn.readNetFromCaffe(protoxt, model)\n",
    "        # load the input image and construct an input blob for the image\n",
    "        # by resizing to a fixed 300x300 pixels and then normalizing it\n",
    "        image = cv2.imread(pathImage)        \n",
    "        (h, w) = image.shape[:2]\n",
    "        blob = cv2.dnn.blobFromImage(cv2.resize(image, (300, 300)), 1.0,\n",
    "            (300, 300), (104.0, 177.0, 123.0))\n",
    "        # pass the blob through the network and obtain the detections and\n",
    "        net.setInput(blob)\n",
    "        detections = net.forward()\n",
    "        # loop over the detections\n",
    "        imagenN=0\n",
    "        for i in range(0,detections.shape[2]):\n",
    "            confidence=detections[0,0,i,2]\n",
    "            # filter out weak detections by ensuring the `confidence` is\n",
    "            if(confidence > confidence_):\n",
    "                # compute the (x, y)-coordinates of the bounding box for the\n",
    "                box = detections[0, 0, i, 3:7] * np.array([w, h, w, h])\n",
    "                (startX, startY, endX, endY) = box.astype(\"int\")\n",
    "                \n",
    "                faceWidth=endX-startX\n",
    "                # draw the bounding box of the face along with the associated\n",
    "                text = \"{:.2f}%\".format(confidence * 100)\n",
    "                y = startY - 10 if startY - 10 > 10 else startY + 10\n",
    "                #cv2.rectangle(image, (startX-100, startY-100), (endX+100, endY+100),(0, 0, 255), 2)\n",
    "                #cv2.putText(image, text, (startX-100, y-100),cv2.FONT_HERSHEY_SIMPLEX, 0.45, (0, 0, 255), 2)\n",
    "                #cv2.rectangle(image, (startX-100, startY-100), (endX+100, endY+100),(0, 0, 255), 2)\n",
    "               \n",
    "                pad=int(0.25*faceWidth)\n",
    "                #print(\"pad: \",pad) # pad que se ajusta a la imÃ¡gen para extraer solo rostro\n",
    "                \n",
    "                y1 = startY - pad if startY - pad > 0 else 0\n",
    "                y2 =endY  + pad if endY + pad < h else h\n",
    "                x1 = startX - pad if startX - pad > 0 else 0\n",
    "                x2 = endX + pad if endX + pad < w else w                 \n",
    "                imagenN=image[y1:y2, x1:x2]\n",
    "                imagenN=cv2.cvtColor(imagenN, cv2.COLOR_BGR2GRAY)\n",
    "                cv2.imwrite(direccionN,imagenN)\n",
    "    except:\n",
    "        pass\n",
    "    # show the output image\n",
    "    #cv2.imshow(\"Output\", imagenN)\n",
    "    #cv2.waitKey(0)\n",
    "    \n",
    "    return\n",
    "    "
   ]
  },
  {
   "cell_type": "code",
   "execution_count": null,
   "metadata": {},
   "outputs": [],
   "source": []
  },
  {
   "cell_type": "code",
   "execution_count": 6,
   "metadata": {},
   "outputs": [
    {
     "name": "stdout",
     "output_type": "stream",
     "text": [
      "resultado: [[1.77747e-31 1.00000e+00]]\n",
      "dormido\n"
     ]
    }
   ],
   "source": [
    "predecirImagenFinal(\"finaldormido1.jpg\")"
   ]
  },
  {
   "cell_type": "code",
   "execution_count": 37,
   "metadata": {},
   "outputs": [
    {
     "name": "stdout",
     "output_type": "stream",
     "text": [
      "resultado: [[9.2349865e-08 9.9999988e-01]]\n",
      "dormido\n"
     ]
    }
   ],
   "source": [
    "predecirImagenCruda(\"t4CRUDO_DDOR.jpg\")"
   ]
  },
  {
   "cell_type": "code",
   "execution_count": null,
   "metadata": {},
   "outputs": [],
   "source": []
  }
 ],
 "metadata": {
  "interpreter": {
   "hash": "5795fd71190718b14c43d7b7e293c3c04ed51ab78972dfc84a49c5d59468b756"
  },
  "kernelspec": {
   "display_name": "Python 3.8.10 64-bit ('fa': conda)",
   "name": "python3"
  },
  "language_info": {
   "codemirror_mode": {
    "name": "ipython",
    "version": 3
   },
   "file_extension": ".py",
   "mimetype": "text/x-python",
   "name": "python",
   "nbconvert_exporter": "python",
   "pygments_lexer": "ipython3",
   "version": "3.8.10"
  }
 },
 "nbformat": 4,
 "nbformat_minor": 4
}
